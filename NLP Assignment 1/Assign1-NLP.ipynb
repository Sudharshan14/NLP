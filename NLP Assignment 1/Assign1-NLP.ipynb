{ import the libraries
 "cells": [
  {
   "cell_type": "code",
   "execution_count": 1,
   "id": "a2d442c2-f9b4-412c-9458-cef24e736fdd",
   "metadata": {},
   "outputs": [],
   "source": [
    "import nltk\n",
    "import multiprocessing as mp\n",
    "import time\n",
    "import itertools\n",
    "from utils.k_success import top_k_words, success_at_k, average_k\n",
    "import os\n",
    "import matplotlib.pyplot as plt\n",
    "%matplotlib inline"
   ]
  },
  {
   "cell_type": "code",
   "execution_count": 2,
   "id": "e5b2b3aa-7394-4cce-8523-d2b91b02bd6a",
   "metadata": {},
   "outputs": [
    {
     "name": "stderr",
     "output_type": "stream",
     "text": [
      "[nltk_data] Downloading package wordnet to\n",
      "[nltk_data]     /Users/_sudharshan14/nltk_data...\n",
      "[nltk_data]   Package wordnet is already up-to-date!\n",
      "[nltk_data] Downloading package omw-1.4 to\n",
      "[nltk_data]     /Users/_sudharshan14/nltk_data...\n",
      "[nltk_data]   Package omw-1.4 is already up-to-date!\n"
     ]
    },
    {
     "data": {
      "text/plain": [
       "True"
      ]
     },
     "execution_count": 2,
     "metadata": {},
     "output_type": "execute_result"
    }
   ],
   "source": [
    "nltk.download('wordnet')\n",
    "nltk.download('omw-1.4')"
   ]
  },
  {
   "cell_type": "code",
   "execution_count": 3,
   "id": "94f28baf-eb74-438b-a921-f6753381374e",
   "metadata": {},
   "outputs": [
    {
     "name": "stdout",
     "output_type": "stream",
     "text": [
      "Total number of words in Wordnet =  147306\n"
     ]
    }
   ],
   "source": [
    "from nltk.corpus import wordnet as wn\n",
    "print(\"Total number of words in Wordnet = \", len(list(wn.words())))"
   ]
  },
  {
   "cell_type": "code",
   "execution_count": 4,
   "id": "1f0dffbd-7ad8-41b3-bb35-771ec1ed92bb",
   "metadata": {},
   "outputs": [
    {
     "name": "stdout",
     "output_type": "stream",
     "text": [
      "Total number of words in Birbeck corpus =  1193\n"
     ]
    }
   ],
   "source": [
    "birkbeck_corpus_data = []\n",
    "with open('Data/FAWTHROP1DAT.643', 'r') as corpus_data1:\n",
    "    for line in corpus_data1:\n",
    "        data = line.split()\n",
    "        birkbeck_corpus_data.append(data)\n",
    "    \n",
    "with open('Data/SHEFFIELDDAT.643', 'r') as corpus_data2:\n",
    "    for line in corpus_data2:\n",
    "        data = line.split()\n",
    "        birkbeck_corpus_data.append(data)\n",
    "\n",
    "birkbeck_corpus_data = sorted(birkbeck_corpus_data)\n",
    "print(\"Total number of words in Birbeck corpus = \", len(birkbeck_corpus_data))"
   ]
  },
  {
   "cell_type": "code",
   "execution_count": 5,
   "id": "ba328b05-989b-4198-b8ab-c936ad3437c1",
   "metadata": {},
   "outputs": [
    {
     "name": "stdout",
     "output_type": "stream",
     "text": [
      "[['ABATTOIR', 'ABBATOIR'], ['ABHORRENCE', 'ABHORENCE'], ['ABILITY', 'ABILTY'], ['ABROAD', 'ABRAOD'], ['ABSENCE', 'ABSENSE'], ['ABSORBENT', 'ABSORBANT'], ['ABSORPTION', 'ABSORBTION'], ['ACADEMIC', 'ACEDEMIC'], ['ACCEDE', 'ACCEED'], ['ACCELERATE', 'ACELLERATE']]\n"
     ]
    }
   ],
   "source": [
    "print(birkbeck_corpus_data[:10])"
   ]
  },
  {
   "cell_type": "code",
   "execution_count": 6,
   "id": "2debc977-e9ba-4289-9b09-e6911a013b69",
   "metadata": {
    "scrolled": true
   },
   "outputs": [],
   "source": [
    "\n",
    "pool = mp.Pool()\n",
    "start_time = time.time()\n",
    "top_k = []\n",
    "top_k.append(pool.map(top_k_words, birkbeck_corpus_data[:10]))\n",
    "    \n",
    "#print(\"Parallelization Runtime: %s\" % (time.time() - start_time))"
   ]
  },
  {
   "cell_type": "code",
   "execution_count": 7,
   "id": "1b53f325-1c97-4d7e-a035-2c37b4a445f8",
   "metadata": {
    "scrolled": true
   },
   "outputs": [
    {
     "name": "stdout",
     "output_type": "stream",
     "text": [
      "[[{'correct_word': 'abattoir', 'incorrect_word': 'abbatoir', 'top_1': ['abator'], 'top_5': ['abator', 'abattoir', 'abatic', 'abbatial', 'sabbatic'], 'top_10': ['abator', 'abattoir', 'abatic', 'abbatial', 'sabbatic', 'abatis', 'abattis', 'abettor', 'aerator', 'aviator']}, {'correct_word': 'abhorrence', 'incorrect_word': 'abhorence', 'top_1': ['abhorrence'], 'top_5': ['abhorrence', 'adherence', 'abhorrent', 'aberrance', 'abience'], 'top_10': ['abhorrence', 'adherence', 'abhorrent', 'aberrance', 'abience', 'absence', 'absorbance', 'absorbency', 'coherence', 'florence']}, {'correct_word': 'ability', 'incorrect_word': 'abilty', 'top_1': ['ability'], 'top_5': ['ability', 'atilt', 'bilgy', 'bitty', 'guilty'], 'top_10': ['ability', 'atilt', 'bilgy', 'bitty', 'guilty', 'silty', 'ably', 'abila', 'agility', 'ailey']}, {'correct_word': 'abroad', 'incorrect_word': 'abraod', 'top_1': ['abroad'], 'top_5': ['abroad', 'afraid', 'aboard', 'aborad', 'brad'], 'top_10': ['abroad', 'afraid', 'aboard', 'aborad', 'brad', 'braid', 'brand', 'brood', 'abrade', 'abrase']}, {'correct_word': 'absence', 'incorrect_word': 'absense', 'top_1': ['absence'], 'top_5': ['absence', 'absent', 'abience', 'absentee', 'sense'], 'top_10': ['absence', 'absent', 'abience', 'absentee', 'sense', 'abscise', 'abient', 'abreast', 'abscessed', 'abstruse']}, {'correct_word': 'absorbent', 'incorrect_word': 'absorbant', 'top_1': ['absorbent'], 'top_5': ['absorbent', 'absorbing', 'adsorbent', 'absorbance', 'absorbate'], 'top_10': ['absorbent', 'absorbing', 'adsorbent', 'absorbance', 'absorbate', 'aberrant', 'abhorrent', 'absorbable', 'absorbed', 'abstract']}, {'correct_word': 'absorption', 'incorrect_word': 'absorbtion', 'top_1': ['absorption'], 'top_5': ['absorption', 'abortion', 'absolution', 'adsorption', 'absorbing'], 'top_10': ['absorption', 'abortion', 'absolution', 'adsorption', 'absorbing', 'absorptive', 'aberration', 'abjuration', 'abolition', 'abrogation']}, {'correct_word': 'academic', 'incorrect_word': 'acedemic', 'top_1': ['academic'], 'top_5': ['academic', 'ecdemic', 'academia', 'acidemia', 'acentric'], 'top_10': ['academic', 'ecdemic', 'academia', 'acidemia', 'acentric', 'acerbic', 'acetic', 'acetonic', 'acetylic', 'achromic']}, {'correct_word': 'accede', 'incorrect_word': 'acceed', 'top_1': ['accented'], 'top_5': ['accented', 'accepted', 'accrued', 'acned', 'agreed'], 'top_10': ['accented', 'accepted', 'accrued', 'acned', 'agreed', 'arced', 'arched', 'accent', 'access', 'accord']}, {'correct_word': 'accelerate', 'incorrect_word': 'acellerate', 'top_1': ['accelerate'], 'top_5': ['accelerate', 'accelerated', 'acerate', 'aculeate', 'adulterate'], 'top_10': ['accelerate', 'accelerated', 'acerate', 'aculeate', 'adulterate', 'cellarage', 'ameliorate', 'celebrate', 'decelerate', 'accelerative']}]]\n"
     ]
    }
   ],
   "source": [
    "print(top_k)"
   ]
  },
  {
   "cell_type": "code",
   "execution_count": null,
   "id": "d47e720c-afa0-4a04-96a5-90a8ebd9a799",
   "metadata": {
    "scrolled": true
   },
   "outputs": [],
   "source": [
    "top_k_result = []\n",
    "start_time = time.time()\n",
    "top_k_result.append(pool.map(top_k_words, birkbeck_corpus_data))\n",
    "print(top_k_result[0][-5:])"
   ]
  },
  {
   "cell_type": "code",
   "execution_count": null,
   "id": "4ccbc038-21f5-4e62-8ea4-63e430b04490",
   "metadata": {},
   "outputs": [],
   "source": [
    "# Getting the success at k\n",
    "success = success_at_k(top_k_result[0])\n",
    "print(dict(itertools.islice(reversed(success.items()), 5)))"
   ]
  },
  {
   "cell_type": "code",
   "execution_count": null,
   "id": "f5a46404-2504-48b0-9885-dcbb410ea31f",
   "metadata": {},
   "outputs": [],
   "source": [
    "# Getting the average success at k\n",
    "avg_success = average_k(success)\n",
    "print(avg_success)"
   ]
  },
  {
   "cell_type": "code",
   "execution_count": null,
   "id": "d8832afd-0325-44ab-b976-5b08b863f62e",
   "metadata": {},
   "outputs": [],
   "source": [
    "x = list(avg_success.keys())\n",
    "y = list(avg_success.values())\n",
    "\n",
    "# Plotting the line graph\n",
    "plt.plot(x, y, marker='o', color='red', linestyle='-')\n",
    "\n",
    "# Adding labels and title\n",
    "plt.title('Average success at k', fontsize=14)\n",
    "plt.xlabel('Top-k', fontsize=14)\n",
    "plt.ylabel('Average', fontsize=14)\n",
    "plt.grid(True)\n",
    "\n",
    "# Adding data labels\n",
    "for i in range(len(x)):\n",
    "    plt.text(x[i], y[i], str(y[i]), ha='center', va='bottom')\n",
    "\n",
    "# Saving the graph\n",
    "plt.savefig('average_success_line.png', dpi=400)\n",
    "\n",
    "# Displaying the graph\n",
    "plt.show()"
   ]
  }
 ],
 "metadata": {
  "kernelspec": {
   "display_name": "Python 3 (ipykernel)",
   "language": "python",
   "name": "python3"
  },
  "language_info": {
   "codemirror_mode": {
    "name": "ipython",
    "version": 3
   },
   "file_extension": ".py",
   "mimetype": "text/x-python",
   "name": "python",
   "nbconvert_exporter": "python",
   "pygments_lexer": "ipython3",
   "version": "3.11.5"
  }
 },
 "nbformat": 4,
 "nbformat_minor": 5
}
