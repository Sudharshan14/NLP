{
 "cells": [
  {
   "cell_type": "code",
   "execution_count": 2,
   "id": "5265cb6b-763e-4369-bbed-c953d6e9ff06",
   "metadata": {},
   "outputs": [
    {
     "name": "stdout",
     "output_type": "stream",
     "text": [
      "Collecting PyDictionary\n",
      "  Downloading PyDictionary-2.0.1-py3-none-any.whl (6.1 kB)\n",
      "Collecting bs4 (from PyDictionary)\n",
      "  Downloading bs4-0.0.2-py2.py3-none-any.whl.metadata (411 bytes)\n",
      "Requirement already satisfied: click in /Users/_sudharshan14/miniconda3/lib/python3.11/site-packages (from PyDictionary) (8.1.7)\n",
      "Collecting goslate (from PyDictionary)\n",
      "  Downloading goslate-1.5.4.tar.gz (14 kB)\n",
      "  Preparing metadata (setup.py) ... \u001b[?25ldone\n",
      "\u001b[?25hRequirement already satisfied: requests in /Users/_sudharshan14/miniconda3/lib/python3.11/site-packages (from PyDictionary) (2.31.0)\n",
      "Requirement already satisfied: beautifulsoup4 in /Users/_sudharshan14/miniconda3/lib/python3.11/site-packages (from bs4->PyDictionary) (4.12.2)\n",
      "Collecting futures (from goslate->PyDictionary)\n",
      "  Downloading futures-3.0.5.tar.gz (25 kB)\n",
      "  Preparing metadata (setup.py) ... \u001b[?25ldone\n",
      "\u001b[?25hRequirement already satisfied: charset-normalizer<4,>=2 in /Users/_sudharshan14/miniconda3/lib/python3.11/site-packages (from requests->PyDictionary) (2.0.4)\n",
      "Requirement already satisfied: idna<4,>=2.5 in /Users/_sudharshan14/miniconda3/lib/python3.11/site-packages (from requests->PyDictionary) (3.4)\n",
      "Requirement already satisfied: urllib3<3,>=1.21.1 in /Users/_sudharshan14/miniconda3/lib/python3.11/site-packages (from requests->PyDictionary) (1.26.18)\n",
      "Requirement already satisfied: certifi>=2017.4.17 in /Users/_sudharshan14/miniconda3/lib/python3.11/site-packages (from requests->PyDictionary) (2023.11.17)\n",
      "Requirement already satisfied: soupsieve>1.2 in /Users/_sudharshan14/miniconda3/lib/python3.11/site-packages (from beautifulsoup4->bs4->PyDictionary) (2.5)\n",
      "Downloading bs4-0.0.2-py2.py3-none-any.whl (1.2 kB)\n",
      "Building wheels for collected packages: goslate, futures\n",
      "  Building wheel for goslate (setup.py) ... \u001b[?25ldone\n",
      "\u001b[?25h  Created wheel for goslate: filename=goslate-1.5.4-py3-none-any.whl size=11579 sha256=6de1874510dedd4c91e07d77d8f003cbed40c3260538b8182a70a498c3d31348\n",
      "  Stored in directory: /Users/_sudharshan14/Library/Caches/pip/wheels/b6/48/7a/e7458e7a110a5525687dd17a52d3e42c157a8d22a2c4d5e840\n",
      "  Building wheel for futures (setup.py) ... \u001b[?25ldone\n",
      "\u001b[?25h  Created wheel for futures: filename=futures-3.0.5-py3-none-any.whl size=14068 sha256=2fe7034381bea4ab2806fa5ed1230cad14b8a7411d3812dbd69d2eeadb8948df\n",
      "  Stored in directory: /Users/_sudharshan14/Library/Caches/pip/wheels/66/cb/37/51fe32ecb9068869196ce81111bdfe82e6ecb53c889362f81b\n",
      "Successfully built goslate futures\n",
      "Installing collected packages: futures, goslate, bs4, PyDictionary\n",
      "Successfully installed PyDictionary-2.0.1 bs4-0.0.2 futures-3.0.5 goslate-1.5.4\n",
      "Note: you may need to restart the kernel to use updated packages.\n"
     ]
    }
   ],
   "source": [
    "pip install PyDictionary"
   ]
  },
  {
   "cell_type": "code",
   "execution_count": 1,
   "id": "b6d6b55f-f659-45f4-978f-d9bb4fa4e764",
   "metadata": {},
   "outputs": [],
   "source": [
    "import nltk\n",
    "from PyDictionary import PyDictionary\n",
    "import multiprocessing as mp\n",
    "import matplotlib.pyplot as plot\n",
    "%matplotlib inline"
   ]
  },
  {
   "cell_type": "code",
   "execution_count": null,
   "id": "8bd2b339-e797-422b-bca3-9dfccf5b622b",
   "metadata": {},
   "outputs": [],
   "source": []
  }
 ],
 "metadata": {
  "kernelspec": {
   "display_name": "Python 3 (ipykernel)",
   "language": "python",
   "name": "python3"
  },
  "language_info": {
   "codemirror_mode": {
    "name": "ipython",
    "version": 3
   },
   "file_extension": ".py",
   "mimetype": "text/x-python",
   "name": "python",
   "nbconvert_exporter": "python",
   "pygments_lexer": "ipython3",
   "version": "3.11.5"
  }
 },
 "nbformat": 4,
 "nbformat_minor": 5
}
